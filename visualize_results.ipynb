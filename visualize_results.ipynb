{
 "cells": [
  {
   "cell_type": "code",
   "execution_count": 4,
   "metadata": {},
   "outputs": [],
   "source": [
    "import numpy as np\n",
    "import pickle as pkl"
   ]
  },
  {
   "cell_type": "code",
   "execution_count": 5,
   "metadata": {},
   "outputs": [],
   "source": [
    "file = \"results/2023_11_12_195801_Ethan.pkl\"\n",
    "# file = \"results/2023_11_12_222210_Devleena.pkl\"\n",
    "# file = \"results/2023_11_12_222245_Abivishaq.pkl\"\n",
    "\n",
    "data = pkl.load(open(file, \"rb\"))"
   ]
  },
  {
   "cell_type": "code",
   "execution_count": 6,
   "metadata": {},
   "outputs": [
    {
     "name": "stdout",
     "output_type": "stream",
     "text": [
      "results/2023_11_12_195801_Ethan.pkl\n",
      "Memorization\n",
      "1.0\n",
      "Generalization by category\n",
      "0.7941176470588235\n",
      "Generalization by subcategory\n",
      "0.9230769230769231\n"
     ]
    }
   ],
   "source": [
    "print(file)\n",
    "print(\"Memorization\")\n",
    "memorization_preds = [d[\"prediction\"] > 0.5 for d in data[\"memorization\"]]\n",
    "print(sum(memorization_preds)/len(memorization_preds))\n",
    "\n",
    "print(\"Generalization by category\")\n",
    "generalization_cat_preds = [d[\"prediction\"] > 0.5 for d in data[\"generalization_cat\"]]\n",
    "print(sum(generalization_cat_preds)/len(generalization_cat_preds))\n",
    "\n",
    "print(\"Generalization by subcategory\")\n",
    "generalization_subcat_preds = [d[\"prediction\"] > 0.5 for d in data[\"generalization_subcat\"]]\n",
    "print(sum(generalization_subcat_preds)/len(generalization_subcat_preds))"
   ]
  }
 ],
 "metadata": {
  "kernelspec": {
   "display_name": "OVR",
   "language": "python",
   "name": "python3"
  },
  "language_info": {
   "codemirror_mode": {
    "name": "ipython",
    "version": 3
   },
   "file_extension": ".py",
   "mimetype": "text/x-python",
   "name": "python",
   "nbconvert_exporter": "python",
   "pygments_lexer": "ipython3",
   "version": "3.9.0"
  }
 },
 "nbformat": 4,
 "nbformat_minor": 2
}
